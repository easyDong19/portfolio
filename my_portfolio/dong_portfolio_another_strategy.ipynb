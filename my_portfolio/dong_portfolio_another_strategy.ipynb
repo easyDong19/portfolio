{
 "cells": [
  {
   "cell_type": "code",
   "execution_count": null,
   "outputs": [],
   "source": [
    "import warnings\n",
    "# 경고 메시지를 무시하고 숨기거나\n",
    "warnings.filterwarnings(action='ignore')\n",
    "\n",
    "#결과 여러개 뜨게 하기\n",
    "from IPython.core.interactiveshell import InteractiveShell\n",
    "InteractiveShell.ast_node_interactivity = \"all\""
   ],
   "metadata": {
    "collapsed": false
   },
   "id": "27155d004d19b30e"
  },
  {
   "cell_type": "code",
   "execution_count": null,
   "outputs": [],
   "source": [
    "import datetime\n",
    "import pandas as pd\n",
    "import matplotlib.pyplot as plt\n",
    "import numpy as np\n",
    "import statsmodels.api as sm\n",
    "import scipy.stats as stats\n",
    "from cvxopt import matrix\n",
    "from cvxopt.solvers import qp\n",
    "\n",
    "import arch\n",
    "\n",
    "from statsmodels.graphics.tsaplots import plot_acf\n",
    "from statsmodels.graphics.tsaplots import plot_pacf\n",
    "from statsmodels.tsa.arima.model import ARIMA\n",
    "from statsmodels.tsa.stattools import acf\n",
    "from statsmodels.tsa.stattools import adfuller\n",
    "from statsmodels.tsa.stattools import kpss\n"
   ],
   "metadata": {
    "collapsed": false
   },
   "id": "initial_id"
  },
  {
   "cell_type": "markdown",
   "source": [
    "## Data Preprocessing for security_selection\n",
    "Extract only the top 10 cumulative returns over 10 years"
   ],
   "metadata": {
    "collapsed": false
   },
   "id": "b0f16c0faf6fb637"
  },
  {
   "cell_type": "code",
   "execution_count": null,
   "outputs": [],
   "source": [
    "#dataframe으로 변환\n",
    "df_stock_data = pd.read_excel('./dataset.xlsx',index_col=0)"
   ],
   "metadata": {
    "collapsed": false
   },
   "id": "8af25c0bec4eb47"
  },
  {
   "cell_type": "code",
   "execution_count": null,
   "outputs": [],
   "source": [
    "#전략 \n",
    "df_train = df_stock_data.iloc[1:122,:]\n",
    "#월별 수익률(2000~2009)\n",
    "df_profit = df_train.pct_change()\n",
    "\n",
    "#상위 누적수익률로 포트폴리오 짜는 방법\n",
    "df_profit_acc = (1+df_profit).cumprod()-1\n",
    "select_stocks = df_profit_acc.iloc[-1,:].sort_values(ascending = False)\n",
    "# select_stocks = list(select_stocks[:25].index)"
   ],
   "metadata": {
    "collapsed": false
   },
   "id": "6919dcc8034e3b2e"
  },
  {
   "cell_type": "code",
   "execution_count": null,
   "outputs": [],
   "source": [
    "#상위 누적수익률 10개 중위 10개 하위 5개 랜덤 섞기\n",
    "select_stocks"
   ],
   "metadata": {
    "collapsed": false
   },
   "id": "d787678315237cf3"
  },
  {
   "cell_type": "code",
   "execution_count": null,
   "outputs": [],
   "source": [
    "# # 랜덤으로 짜는 방법\n",
    "# import random\n",
    "# columns = list(df_profit.columns)\n",
    "# select_stocks = random.sample(columns, 25)"
   ],
   "metadata": {
    "collapsed": false
   },
   "id": "cd1631d737dfc5dd"
  },
  {
   "cell_type": "markdown",
   "source": [
    "### 1. 예상 수익률과 종목 변동성을 각각 arima와 garch로 구함\n",
    "### 2. makowitz 공식에 대입해서 weight값 구함\n",
    "### 3. weight값을 토대로 월별 수익률을 기록 이후 sliding window 방식으로 백테스팅"
   ],
   "metadata": {
    "collapsed": false
   },
   "id": "78cbf95d79a855a9"
  },
  {
   "cell_type": "code",
   "execution_count": null,
   "outputs": [],
   "source": [
    "def predict_with_arima(stock_rate):\n",
    "    model = ARIMA(stock_rate.diff(), order=(1,0,1)).fit()\n",
    "    forcast = model.forecast(steps=1)\n",
    "    return np.array(forcast)[0] + stock_rate[-1]"
   ],
   "metadata": {
    "collapsed": false
   },
   "id": "44d888e63851d2ee"
  },
  {
   "cell_type": "code",
   "execution_count": null,
   "outputs": [],
   "source": [
    "def predict_with_garch(stock_rate):\n",
    "    model = arch.arch_model(stock_rate,vol='GARCH', p=1,q=1).fit()\n",
    "    forcast = model.forecast(horizon=1)\n",
    "    return np.sqrt(forcast.variance[-1:].values[0][0])\n",
    "    "
   ],
   "metadata": {
    "collapsed": false
   },
   "id": "672874c03f23a77e"
  },
  {
   "cell_type": "code",
   "execution_count": null,
   "outputs": [],
   "source": [
    "# #저장한걸 불러오기\n",
    "# stock_list = pd.read_excel('num_is_25_r_min_001_random2.xlsx')\n",
    "# \n",
    "# select_stocks = list(stock_list.columns)\n",
    "# select_stocks"
   ],
   "metadata": {
    "collapsed": false
   },
   "id": "a810e01467b120c7"
  },
  {
   "cell_type": "code",
   "execution_count": null,
   "outputs": [],
   "source": [
    "#포트폴리오 연수익을 구하는 함수\n",
    "def calculate_return_rate(select_stocks, r_min):    \n",
    "    df_month_profit = df_stock_data.iloc[1:,:][select_stocks].pct_change().dropna()\n",
    "    num = len(select_stocks)\n",
    "    return_rate = []\n",
    "\n",
    "    index = list(df_month_profit.index)[120:len(df_month_profit)]\n",
    "    #walk forward analysis\n",
    "    #총 데이터 갯수 252개(0~251) 132번 테스트 \n",
    "    for i in range(0,len(df_month_profit)-120):\n",
    "        security_selection_train_return = df_month_profit.iloc[i:120+i,:]\n",
    "        security_selection_test_return = df_month_profit.iloc[120+i,:]\n",
    "    \n",
    "        corr = security_selection_train_return.corr().to_numpy()\n",
    "        mean_list = []\n",
    "        sigma_list = []\n",
    "        for j in range(num):\n",
    "            target = security_selection_train_return.iloc[:,j]\n",
    "            forcast_return_result = predict_with_arima(target)\n",
    "            mean_list.append(forcast_return_result)\n",
    "    \n",
    "            forcast_vot_result = predict_with_garch(target)\n",
    "            sigma_list.append(forcast_vot_result)\n",
    "    \n",
    "        weight = calculate_weight(mean_list,sigma_list,corr,num,r_min)\n",
    "        weight = np.transpose(weight)\n",
    "        x = matrix(security_selection_test_return)\n",
    "        month_return = weight @ x\n",
    "        return_rate.append(month_return[0][0])\n",
    "    \n",
    "    return_rate = pd.DataFrame(return_rate)\n",
    "    return_rate.index = index\n",
    "    \n",
    "    return df_month_profit,return_rate"
   ],
   "metadata": {
    "collapsed": false
   },
   "id": "12d83ac870906e68"
  },
  {
   "cell_type": "code",
   "execution_count": null,
   "outputs": [],
   "source": [
    "def calculate_weight(mean_list,sigma_list,corr,num,r_min):\n",
    "    #공분산 행렬 만들기 sigma @ T(sigma) * corr   \n",
    "    Mean = matrix([mean_list])\n",
    "    sigma = matrix([sigma_list])\n",
    "    sigma = sigma@np.transpose(sigma)\n",
    "    cov = matrix(sigma*corr)\n",
    "\n",
    "    G = matrix(np.concatenate((-np.transpose(Mean), -np.identity(num)), 0))\n",
    "    h = matrix(np.concatenate((-np.ones((1,1))*r_min, np.zeros((num,1))), 0))\n",
    "    A = matrix(1.0, (1,num))\n",
    "    b = matrix(1.0)\n",
    "    q = matrix(np.zeros((num,1)))\n",
    "    sol = qp(cov, q, G, h, A ,b)\n",
    "    return sol['x']"
   ],
   "metadata": {
    "collapsed": false
   },
   "id": "8e9908e1bef5474e"
  },
  {
   "cell_type": "code",
   "execution_count": null,
   "outputs": [],
   "source": [
    "return_rate = calculate_return_rate(select_stocks,0.01)"
   ],
   "metadata": {
    "collapsed": false
   },
   "id": "9237e11968241977"
  },
  {
   "cell_type": "code",
   "execution_count": null,
   "outputs": [],
   "source": [
    "df_month_profit, return_rate = return_rate"
   ],
   "metadata": {
    "collapsed": false
   },
   "id": "fbc99a6e8b8b2db2"
  },
  {
   "cell_type": "code",
   "execution_count": null,
   "outputs": [],
   "source": [
    "#종목 내보내기\n",
    "# df_month_profit.to_excel('best.xlsx')"
   ],
   "metadata": {
    "collapsed": false
   },
   "id": "f4f06610efe0b413"
  },
  {
   "cell_type": "code",
   "execution_count": null,
   "outputs": [],
   "source": [
    "# 누적수익률\n",
    "df_profit_accumulate = (1+return_rate).cumprod()-1"
   ],
   "metadata": {
    "collapsed": false
   },
   "id": "9268f085d2d88240"
  },
  {
   "cell_type": "code",
   "execution_count": null,
   "outputs": [],
   "source": [
    "#코스피 표시\n",
    "df_kospi_data = pd.read_excel('./kospi.xlsx',index_col=0)\n",
    "df_kospi_data_pct_return = df_kospi_data.pct_change().dropna()\n",
    "df_kospi_data_accumulate_return = (1+df_kospi_data_pct_return).cumprod()-1\n",
    "df_kospi_data_accumulate_return.index = df_profit_accumulate.index"
   ],
   "metadata": {
    "collapsed": false
   },
   "id": "7ab594480561bcd6"
  },
  {
   "cell_type": "code",
   "execution_count": null,
   "outputs": [],
   "source": [
    "def calculate_value(return_rate):\n",
    "    acc_return_rate = (1+return_rate)\n",
    "    initial_price = 100\n",
    "    acc_return_rate.iloc[0,:] = acc_return_rate.iloc[0,:] * initial_price\n",
    "    acc_return_rate = acc_return_rate.cumprod()\n",
    "    \n",
    "    return acc_return_rate\n",
    "    "
   ],
   "metadata": {
    "collapsed": false
   },
   "id": "b2f5e22960d829c"
  },
  {
   "cell_type": "code",
   "execution_count": null,
   "outputs": [],
   "source": [
    "def cal_sharpe(return_rate):\n",
    "    acc_return_rate = calculate_value(return_rate)\n",
    "    initial_price = 100\n",
    "    last_price = acc_return_rate.iloc[-1,:][0]\n",
    "    \n",
    "    annualized_return = np.power(last_price/initial_price,1/11)-1\n",
    "    annualized_std = return_rate.std()*np.sqrt(12)\n",
    "    #샤프지수\n",
    "    sharp = annualized_return / annualized_std\n",
    "    print(f'annualized_return : {annualized_return}\\nannualized_std : {annualized_std[0]}\\nsharp: {sharp[0]}')\n",
    "    \n",
    "    "
   ],
   "metadata": {
    "collapsed": false
   },
   "id": "15f21b41669ac1c1"
  },
  {
   "cell_type": "code",
   "execution_count": null,
   "outputs": [],
   "source": [
    "cal_sharpe(return_rate)"
   ],
   "metadata": {
    "collapsed": false
   },
   "id": "f138dfa1d325857a"
  },
  {
   "cell_type": "code",
   "execution_count": null,
   "outputs": [],
   "source": [
    "cal_sharpe(df_kospi_data_pct_return)"
   ],
   "metadata": {
    "collapsed": false
   },
   "id": "903b5139e0f93f92"
  },
  {
   "cell_type": "code",
   "execution_count": null,
   "outputs": [],
   "source": [
    "df_kospi_data_pct_return.index = return_rate.index\n",
    "\n",
    "plt.plot(calculate_value(df_kospi_data_pct_return), label='kospi')\n",
    "plt.plot(calculate_value(return_rate), label='portfolio')\n",
    "plt.xlabel('year')\n",
    "plt.ylabel('acc_value')\n",
    "plt.legend()\n"
   ],
   "metadata": {
    "collapsed": false
   },
   "id": "6d3b31e661c04416"
  },
  {
   "cell_type": "code",
   "execution_count": null,
   "outputs": [],
   "source": [],
   "metadata": {
    "collapsed": false
   },
   "id": "cced519da2aacfb0"
  },
  {
   "cell_type": "code",
   "execution_count": null,
   "outputs": [],
   "source": [],
   "metadata": {
    "collapsed": false
   },
   "id": "2e313a7f80a9c117"
  }
 ],
 "metadata": {
  "kernelspec": {
   "name": "study",
   "language": "python",
   "display_name": "STUDY"
  },
  "language_info": {
   "codemirror_mode": {
    "name": "ipython",
    "version": 2
   },
   "file_extension": ".py",
   "mimetype": "text/x-python",
   "name": "python",
   "nbconvert_exporter": "python",
   "pygments_lexer": "ipython2",
   "version": "2.7.6"
  }
 },
 "nbformat": 4,
 "nbformat_minor": 5
}
