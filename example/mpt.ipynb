{
 "cells": [
  {
   "cell_type": "code",
   "execution_count": 3,
   "id": "initial_id",
   "metadata": {
    "collapsed": true,
    "ExecuteTime": {
     "end_time": "2023-10-10T16:52:00.360067Z",
     "start_time": "2023-10-10T16:52:00.241688Z"
    }
   },
   "outputs": [],
   "source": [
    "from cvxopt import matrix\n",
    "from cvxopt.solvers import qp\n",
    "import numpy as np"
   ]
  },
  {
   "cell_type": "code",
   "execution_count": 4,
   "outputs": [
    {
     "name": "stdout",
     "output_type": "stream",
     "text": [
      "[ 7.69e-02  4.00e-02  1.81e-02 -2.88e-04]\n",
      "[ 4.00e-02  5.02e-02  1.90e-02 -6.00e-05]\n",
      "[ 1.81e-02  1.90e-02  2.14e-02  7.51e-03]\n",
      "[-2.88e-04 -6.00e-05  7.51e-03  8.54e-03]\n"
     ]
    }
   ],
   "source": [
    "n = 4\n",
    "Cov = matrix([[0.076900,0.039968,0.018111,-0.000288],\n",
    "              [0.039968,0.050244,0.019033,-0.000060],\n",
    "              [0.018111,0.019033,0.021381,0.007511],\n",
    "              [-0.000288,-0.000060,0.007511,0.008542]])\n",
    "print(Cov)\n",
    "Mean = matrix([0.0073,0.0346,0.0444,0.0271])\n",
    "r_min = 0.035"
   ],
   "metadata": {
    "collapsed": false,
    "ExecuteTime": {
     "end_time": "2023-10-10T16:52:01.024923Z",
     "start_time": "2023-10-10T16:52:00.994587Z"
    }
   },
   "id": "8dff35618c906242"
  },
  {
   "cell_type": "code",
   "execution_count": 5,
   "outputs": [],
   "source": [
    "G = matrix(np.concatenate((-np.transpose(Mean), -np.identity(n)), 0))\n",
    "h = matrix(np.concatenate((-np.ones((1,1))*r_min, np.zeros((n,1))), 0))"
   ],
   "metadata": {
    "collapsed": false,
    "ExecuteTime": {
     "end_time": "2023-10-04T10:48:20.177844Z",
     "start_time": "2023-10-04T10:48:20.171613Z"
    }
   },
   "id": "99368548bcafab2e"
  },
  {
   "cell_type": "code",
   "execution_count": 6,
   "outputs": [
    {
     "name": "stdout",
     "output_type": "stream",
     "text": [
      "     pcost       dcost       gap    pres   dres\n",
      " 0:  9.6979e-03 -9.9747e-01  6e+00  2e+00  3e+00\n",
      " 1:  9.7719e-03 -6.4156e-01  7e-01  4e-02  4e-02\n",
      " 2:  9.2936e-03 -2.0327e-01  2e-01  1e-02  1e-02\n",
      " 3:  8.7597e-03 -5.4022e-02  7e-02  1e-03  1e-03\n",
      " 4:  8.2687e-03  2.5228e-03  6e-03  1e-04  1e-04\n",
      " 5:  5.7185e-03  4.1849e-03  2e-03  2e-16  1e-17\n",
      " 6:  5.3588e-03  5.2547e-03  1e-04  2e-16  1e-17\n",
      " 7:  5.3134e-03  5.3091e-03  4e-06  1e-16  4e-17\n",
      " 8:  5.3124e-03  5.3123e-03  5e-08  1e-16  3e-16\n",
      "Optimal solution found.\n",
      "[ 8.47e-07]\n",
      "[ 4.33e-02]\n",
      "[ 4.38e-01]\n",
      "[ 5.19e-01]\n"
     ]
    }
   ],
   "source": [
    "A = matrix(1.0, (1,n))\n",
    "b = matrix(1.0)\n",
    "q = matrix(np.zeros((n,1)))\n",
    "sol = qp(Cov, q, G, h, A ,b)\n",
    "print(sol['x'])"
   ],
   "metadata": {
    "collapsed": false,
    "ExecuteTime": {
     "end_time": "2023-10-04T10:49:02.244674Z",
     "start_time": "2023-10-04T10:49:02.208670Z"
    }
   },
   "id": "3d0eaad027e1c30a"
  },
  {
   "cell_type": "code",
   "execution_count": 14,
   "outputs": [
    {
     "name": "stdout",
     "output_type": "stream",
     "text": [
      "[-7.30e-03 -3.46e-02 -4.44e-02 -2.71e-02]\n",
      "[-1.00e+00 -0.00e+00 -0.00e+00 -0.00e+00]\n",
      "[-0.00e+00 -1.00e+00 -0.00e+00 -0.00e+00]\n",
      "[-0.00e+00 -0.00e+00 -1.00e+00 -0.00e+00]\n",
      "[-0.00e+00 -0.00e+00 -0.00e+00 -1.00e+00]\n"
     ]
    }
   ],
   "source": [
    "print(G) "
   ],
   "metadata": {
    "collapsed": false,
    "ExecuteTime": {
     "end_time": "2023-10-05T09:19:13.619284Z",
     "start_time": "2023-10-05T09:19:13.596909Z"
    }
   },
   "id": "37159008d268667b"
  },
  {
   "cell_type": "code",
   "execution_count": 22,
   "outputs": [
    {
     "name": "stdout",
     "output_type": "stream",
     "text": [
      "[-3.50e-02]\n",
      "[ 0.00e+00]\n",
      "[ 0.00e+00]\n",
      "[ 0.00e+00]\n",
      "[ 0.00e+00]\n"
     ]
    }
   ],
   "source": [
    "print(h)"
   ],
   "metadata": {
    "collapsed": false,
    "ExecuteTime": {
     "end_time": "2023-10-05T10:43:13.176951Z",
     "start_time": "2023-10-05T10:43:13.167363Z"
    }
   },
   "id": "68acb5bd4a105c1d"
  },
  {
   "cell_type": "code",
   "execution_count": 19,
   "outputs": [
    {
     "data": {
      "text/plain": "array([[0.],\n       [0.],\n       [0.],\n       [0.]])"
     },
     "execution_count": 19,
     "metadata": {},
     "output_type": "execute_result"
    }
   ],
   "source": [
    "np.zeros((n,1))"
   ],
   "metadata": {
    "collapsed": false,
    "ExecuteTime": {
     "end_time": "2023-10-05T10:33:45.748046Z",
     "start_time": "2023-10-05T10:33:45.737843Z"
    }
   },
   "id": "114cb7ebe4072fe6"
  },
  {
   "cell_type": "code",
   "execution_count": 21,
   "outputs": [
    {
     "name": "stdout",
     "output_type": "stream",
     "text": [
      "[ 1.00e+00  1.00e+00  1.00e+00  1.00e+00]\n"
     ]
    }
   ],
   "source": [
    "print(matrix(1.0, (1,n)))"
   ],
   "metadata": {
    "collapsed": false,
    "ExecuteTime": {
     "end_time": "2023-10-05T10:34:46.986269Z",
     "start_time": "2023-10-05T10:34:46.980386Z"
    }
   },
   "id": "913129a41ccd1271"
  },
  {
   "cell_type": "code",
   "execution_count": 25,
   "outputs": [
    {
     "name": "stdout",
     "output_type": "stream",
     "text": [
      "[ 0.00e+00]\n",
      "[ 0.00e+00]\n",
      "[ 0.00e+00]\n",
      "[ 0.00e+00]\n"
     ]
    }
   ],
   "source": [
    "print(q)"
   ],
   "metadata": {
    "collapsed": false,
    "ExecuteTime": {
     "end_time": "2023-10-05T10:53:11.712687Z",
     "start_time": "2023-10-05T10:53:11.708310Z"
    }
   },
   "id": "c130bfcdad8d1b3a"
  },
  {
   "cell_type": "code",
   "execution_count": 26,
   "outputs": [
    {
     "data": {
      "text/plain": "array([[1., 0., 0., 0.],\n       [0., 1., 0., 0.],\n       [0., 0., 1., 0.],\n       [0., 0., 0., 1.]])"
     },
     "execution_count": 26,
     "metadata": {},
     "output_type": "execute_result"
    }
   ],
   "source": [
    "np.identity(n)"
   ],
   "metadata": {
    "collapsed": false,
    "ExecuteTime": {
     "end_time": "2023-10-05T10:55:06.308189Z",
     "start_time": "2023-10-05T10:55:06.299807Z"
    }
   },
   "id": "a2a9f679f1ea9c4c"
  },
  {
   "cell_type": "code",
   "execution_count": null,
   "outputs": [],
   "source": [],
   "metadata": {
    "collapsed": false
   },
   "id": "b92025a7d804dc82"
  }
 ],
 "metadata": {
  "kernelspec": {
   "name": "study",
   "language": "python",
   "display_name": "STUDY"
  },
  "language_info": {
   "codemirror_mode": {
    "name": "ipython",
    "version": 2
   },
   "file_extension": ".py",
   "mimetype": "text/x-python",
   "name": "python",
   "nbconvert_exporter": "python",
   "pygments_lexer": "ipython2",
   "version": "2.7.6"
  }
 },
 "nbformat": 4,
 "nbformat_minor": 5
}
